{
 "cells": [
  {
   "cell_type": "code",
   "execution_count": 2,
   "metadata": {},
   "outputs": [],
   "source": [
    "import cobra\n",
    "\n",
    "import matplotlib.pyplot as plt\n",
    "from matplotlib import cm\n",
    "from matplotlib import colors\n",
    "from cobra.io import read_sbml_model, write_sbml_model\n",
    "import pandas as pd\n",
    "from collections import defaultdict\n",
    "import numpy as np\n",
    "import cplex"
   ]
  },
  {
   "cell_type": "markdown",
   "metadata": {},
   "source": [
    "# LOAD, FIX, AND SET MODEL"
   ]
  },
  {
   "cell_type": "code",
   "execution_count": 3,
   "metadata": {},
   "outputs": [],
   "source": [
    "# Update model to the latest cobrapy standards\n",
    "\n",
    "import logging\n",
    "logging.getLogger(\"cobra\").setLevel(logging.ERROR)\n",
    "\n",
    "model=cobra.io.read_sbml_model(\"13068_2014_144_MOESM1_ESM.xml\")\n",
    "model.id = \"Clostridium\"\n",
    "write_sbml_model(model, \"13068_2014_144_MOESM1_ESM_fixed.xml\")"
   ]
  },
  {
   "cell_type": "code",
   "execution_count": 3,
   "metadata": {},
   "outputs": [],
   "source": [
    "model=cobra.io.read_sbml_model(\"13068_2014_144_MOESM1_ESM_fixed.xml\")"
   ]
  },
  {
   "cell_type": "code",
   "execution_count": 4,
   "metadata": {},
   "outputs": [],
   "source": [
    "# Remove reactions not supported by litterature\n",
    "Reactions = [\"Ex_102\",\"R0013\",\n",
    "            \"R0293\",\"R0375\",\"R0376\",\n",
    "            \"R0407\",\"R0913\",\"R0976\",\"R1018\",\n",
    "            \"R1019\",\"R1141\",\"R1589\",\"R1773\",\n",
    "            \"R1779\",\"R1780\",\"R1504\"]\n",
    "for reaction in Reactions:\n",
    "    reaction = model.reactions.get_by_id(reaction)\n",
    "    model.remove_reactions([reaction])"
   ]
  },
  {
   "cell_type": "code",
   "execution_count": 5,
   "metadata": {},
   "outputs": [],
   "source": [
    "# Set direction of relevant exchange reactions\n",
    "model.reactions.get_by_id(\"Ex_106\").bounds = (0,1000)  #LDH\n",
    "model.reactions.get_by_id(\"Ex_96\").bounds = (0,1000) #LACTATE\n",
    "model.reactions.get_by_id(\"Ex_104\").bounds = (0,1000) #CO21\n",
    "#==========================================\n",
    "model.reactions.get_by_id(\"R1583\").bounds = (0,1000)  #FNdOR\n",
    "model.reactions.get_by_id(\"R1563\").bounds = (-1000,1000) #FNOR\n",
    "model.reactions.get_by_id(\"R1450\").bounds = (0,1000)  #HYDA\n",
    "model.reactions.get_by_id(\"Ex_116\").bounds = (0,1000) #H2\n",
    "#==========================================\n",
    "model.reactions.get_by_id(\"Ex_110\").bounds = (0,1000)  #LDH\n",
    "model.reactions.get_by_id(\"Ex_113\").bounds = (0,1000) #Ethanol\n",
    "model.reactions.get_by_id(\"Ex_111\").bounds = (0,1000) #CO21\n",
    "model.reactions.get_by_id(\"Ex_103\").bounds = (0,1000)\n",
    "\n",
    "#================================================\n",
    "model.reactions.get_by_id(\"R0742\").bounds = (0,0) # AOR\n",
    "model.reactions.get_by_id(\"Ex_112\").bounds = (0,1000) # N2\n",
    "model.reactions.get_by_id(\"R1787\").bounds = (0,0)\n",
    "model.reactions.get_by_id(\"R1483\").bounds = (0,0) # \n",
    "model.reactions.get_by_id(\"R0077\").bounds = (0,1000)\n",
    "model.reactions.get_by_id(\"R1284\").bounds = (-1000,0)\n",
    "\n",
    "#===============================\n",
    "model.reactions.get_by_id(\"Ex_15\").bounds = (-1000,1000) #Amonio\n",
    "model.reactions.get_by_id(\"Ex_49\").bounds = (-1000,1000) # Fosfato\n",
    "model.reactions.get_by_id(\"Ex_97\").bounds = (-1000,1000) # Sulfato\n",
    "model.reactions.get_by_id(\"Ex_101\").bounds = (-1000,1000) # Agua\n",
    "model.reactions.get_by_id(\"Ex_1\").bounds = (-1000,1000) # SPF"
   ]
  },
  {
   "cell_type": "code",
   "execution_count": 6,
   "metadata": {},
   "outputs": [],
   "source": [
    "# Make strain degenerated\n",
    "\n",
    "Reactions = [\"R1423\",\"R1424\",\n",
    "             \"R1638\",\"R1654\",\"R1248\",\"R1371\"]\n",
    "for reaction in Reactions:\n",
    "    reaction = model.reactions.get_by_id(reaction)\n",
    "    model.remove_reactions([reaction])"
   ]
  },
  {
   "cell_type": "code",
   "execution_count": 7,
   "metadata": {},
   "outputs": [],
   "source": [
    "cobra.io.write_sbml_model(model, \"iCac802_updated.xml\")"
   ]
  },
  {
   "cell_type": "markdown",
   "metadata": {},
   "source": [
    "# FBA"
   ]
  },
  {
   "cell_type": "code",
   "execution_count": 8,
   "metadata": {},
   "outputs": [
    {
     "name": "stdout",
     "output_type": "stream",
     "text": [
      "Biomass = 0.3\n",
      "Hidrogeno = 32.733\n",
      "Lactato = -0.0\n",
      "butirato =  0.005\n",
      "Acetato = 16.27\n",
      "Ethanol = 0.0\n",
      "butanol = -0.0\n",
      "Acetona = -0.0\n",
      "Co2 = 15.698\n",
      "N2 = -0.0\n",
      "SPF = 3.587\n"
     ]
    }
   ],
   "source": [
    "solution=model.optimize()\n",
    "model.summary()\n",
    "\n",
    "solution = model.optimize()\n",
    "print(\"Biomass =\", round(solution[\"Biomass\"],3))\n",
    "print(\"Hidrogeno =\", round(solution[\"Ex_116\"],3))\n",
    "print(\"Lactato =\", round(solution[\"Ex_106\"],3))\n",
    "print(\"butirato = \",  round(solution[\"Ex_96\"],3))\n",
    "print(\"Acetato =\", round(solution[\"Ex_104\"],3) )\n",
    "print(\"Ethanol =\", round(solution[\"Ex_111\"],3) )\n",
    "print(\"butanol =\", round(solution[\"Ex_113\"],3) )\n",
    "print(\"Acetona =\", round(solution[\"Ex_110\"],3)) \n",
    "print(\"Co2 =\", round(solution[\"Ex_103\"],3))\n",
    "print(\"N2 =\", round(solution[\"Ex_112\"],3))\n",
    "print(\"SPF =\", round(solution[\"Ex_1\"],3))"
   ]
  },
  {
   "cell_type": "markdown",
   "metadata": {},
   "source": [
    "# FIND CLOSEST BOUNDS ON EXPERIMENTAL FLUXES"
   ]
  },
  {
   "cell_type": "code",
   "execution_count": 9,
   "metadata": {},
   "outputs": [],
   "source": [
    "# Experimentally known fluxes\n",
    "exp = {}\n",
    "exp[\"pH5.5\"]={}\n",
    "exp[\"pH6.0\"]={}\n",
    "exp[\"pH6.5\"]={}\n",
    "exp[\"pH5.5\"][\"Biomass\"]=0.1\n",
    "exp[\"pH5.5\"][\"Ex_91\"]=-6.5266\n",
    "exp[\"pH5.5\"][\"Ex_116\"]=17.71301596\n",
    "exp[\"pH5.5\"][\"Ex_96\"]=5.894083885\n",
    "exp[\"pH5.5\"][\"Ex_106\"]=0.2987\n",
    "exp[\"pH5.5\"][\"Ex_104\"]=5.3782\n",
    "\n",
    "exp[\"pH6.0\"][\"Biomass\"]=0.1\n",
    "exp[\"pH6.0\"][\"Ex_91\"]=-6.2648\n",
    "exp[\"pH6.0\"][\"Ex_116\"]=15.13498271\n",
    "exp[\"pH6.0\"][\"Ex_96\"]=5.30159\n",
    "exp[\"pH6.0\"][\"Ex_106\"]=0.669710807\n",
    "exp[\"pH6.0\"][\"Ex_104\"]=3.1507\n",
    "\n",
    "exp[\"pH6.5\"][\"Biomass\"]=0.1\n",
    "exp[\"pH6.5\"][\"Ex_91\"]=-8.0258\n",
    "exp[\"pH6.5\"][\"Ex_116\"]=15.9725076\n",
    "exp[\"pH6.5\"][\"Ex_96\"]=6.3\n",
    "exp[\"pH6.5\"][\"Ex_106\"]=3.12144\n",
    "exp[\"pH6.5\"][\"Ex_104\"]=2.217"
   ]
  },
  {
   "cell_type": "code",
   "execution_count": 10,
   "metadata": {},
   "outputs": [],
   "source": [
    "conditions=[\"pH5.5\",\"pH6.0\",\"pH6.5\"]"
   ]
  },
  {
   "cell_type": "code",
   "execution_count": 12,
   "metadata": {},
   "outputs": [
    {
     "name": "stdout",
     "output_type": "stream",
     "text": [
      "Condition  pH5.5\n",
      "  Reaction  Experimental flux  Closest flux  Difference\n",
      "0  Biomass           0.100000      0.100000       0.000\n",
      "1    Ex_91          -6.526600     -6.526600       0.000\n",
      "2    Ex_96           5.894084      4.649181      -1.245\n",
      "3   Ex_106           0.298700      0.296302      -0.002\n",
      "4   Ex_104           5.378200      5.119071      -0.259\n",
      "5   Ex_116          17.713016     17.713016       0.000 \n",
      "\n",
      "Condition  pH6.0\n",
      "  Reaction  Experimental flux  Closest flux  Difference\n",
      "0  Biomass           0.100000      0.100000       0.000\n",
      "1    Ex_91          -6.264800     -6.264800       0.000\n",
      "2    Ex_96           5.301590      4.493606      -0.808\n",
      "3   Ex_106           0.669711      0.660041      -0.010\n",
      "4   Ex_104           3.150700      3.079358      -0.071\n",
      "5   Ex_116          15.134983     15.134983       0.000 \n",
      "\n",
      "Condition  pH6.5\n",
      "  Reaction  Experimental flux  Closest flux  Difference\n",
      "0  Biomass           0.100000      0.100000       0.000\n",
      "1    Ex_91          -8.025800     -8.025800       0.000\n",
      "2    Ex_96           6.300000      5.605868      -0.694\n",
      "3   Ex_106           3.121440      2.993640      -0.128\n",
      "4   Ex_104           2.217000      2.195510      -0.021\n",
      "5   Ex_116          15.972508     15.972508       0.000 \n",
      "\n"
     ]
    }
   ],
   "source": [
    "# FIND THE CLOSSEST v TO THE KNOWN FLUXES\n",
    "reactionIDs=[\"Biomass\",\"Ex_91\",\"Ex_96\",\"Ex_106\",\"Ex_104\",\"Ex_116\"]\n",
    "\n",
    "expBF = {} #experimental best fit\n",
    "\n",
    "for condition in conditions:\n",
    "\n",
    "    model.reactions.get_by_id(\"Biomass\").bounds =  (exp[condition][\"Biomass\"], exp[condition][\"Biomass\"]) # Biomass\n",
    "    model.reactions.get_by_id(\"Ex_91\").bounds =  (exp[condition][\"Ex_91\"], exp[condition][\"Ex_91\"]) # Glucose\n",
    "    model.solver = 'cplex'\n",
    "    quadratic_objective = model.problem.Objective(\n",
    "        ((model.reactions.Ex_96.flux_expression-exp[condition][\"Ex_96\"])/exp[condition][\"Ex_96\"])**2 +\n",
    "        ((model.reactions.Ex_104.flux_expression-exp[condition][\"Ex_104\"])/exp[condition][\"Ex_104\"])**2 +\n",
    "        ((model.reactions.Ex_106.flux_expression-exp[condition][\"Ex_106\"])/exp[condition][\"Ex_106\"])**2 +\n",
    "        ((model.reactions.Ex_116.flux_expression-exp[condition][\"Ex_116\"])/exp[condition][\"Ex_116\"])**2,\n",
    "        direction='min')\n",
    "    model.objective = quadratic_objective\n",
    "    solution = model.optimize()\n",
    "    \n",
    "    print(\"Condition \",condition)\n",
    "    expBF[condition] = {}\n",
    "    df = pd.DataFrame(columns=[\"Reaction\", \"Experimental flux\", \"Closest flux\", \"Difference\"])\n",
    "    for reactionID in reactionIDs:\n",
    "        diff = (solution[reactionID]-exp[condition][reactionID])#/exp[condition][reactionID]*100\n",
    "        new_row=[reactionID,exp[condition][reactionID],solution[reactionID],round(diff,3)]\n",
    "        df.loc[len(df)] = new_row\n",
    "        expBF[condition][reactionID] = solution[reactionID]\n",
    "    print(df,\"\\n\")\n"
   ]
  },
  {
   "cell_type": "markdown",
   "metadata": {},
   "source": [
    "# Pheflux"
   ]
  },
  {
   "cell_type": "code",
   "execution_count": 13,
   "metadata": {},
   "outputs": [],
   "source": [
    "# Create uniform transcriptome file. In effect, this reduces Pheflux to MaxEnt\n",
    "f=open('transcriptome.txt', 'w') \n",
    "print(\"Gene_ID\",\"Expression\",sep=\"\\t\", file=f)\n",
    "for gene in model.genes:\n",
    "    print(gene.id,1,sep=\"\\t\", file=f)\n",
    "f.close()"
   ]
  },
  {
   "cell_type": "code",
   "execution_count": 14,
   "metadata": {},
   "outputs": [],
   "source": [
    "# Create default medium\n",
    "f=open('medium.csv', 'w') \n",
    "print(\"Metabolite_Name\",\"Reaction_ID\", sep=\"\\t\",file=f)\n",
    "for key in model.medium:\n",
    "    value=model.medium[key]\n",
    "    metabolite=model.reactions.get_by_id(key).name.split(\"[\")[0]\n",
    "    print(metabolite,key,sep=\"\\t\", file=f)\n",
    "f.close()"
   ]
  },
  {
   "cell_type": "code",
   "execution_count": 15,
   "metadata": {},
   "outputs": [],
   "source": [
    "# Create known fluxes file\n",
    "for condition in conditions:\n",
    "    f=open('knownFluxes_'+condition+'.csv', 'w') \n",
    "    print(\"Reaction_ID\",\"Flux\",  sep=\"\\t\",file=f)\n",
    "    for reaction in exp[condition]:\n",
    "        flux=expBF[condition][reaction]\n",
    "        print(reaction,flux,sep=\"\\t\",file=f)\n",
    "    f.close()"
   ]
  },
  {
   "cell_type": "code",
   "execution_count": 17,
   "metadata": {},
   "outputs": [],
   "source": [
    "# Create InputData file\n",
    "for condition in conditions:\n",
    "    f=open(\"InputData_\"+condition+\".csv\", 'w') \n",
    "    print(\"Organism\\tCondition\\tGeneExpFile\\tMedium\\tNetwork\\tKnownFluxes\",file=f)\n",
    "    Organism    =\"C_acetobutylicum\"\n",
    "    Condition   =condition\n",
    "    GeneExpFile =\"transcriptome.txt\"\n",
    "    Medium      =\"medium.csv\"\n",
    "    Network     =\"iCac802_updated.xml\"\n",
    "    KnownFluxes =\"knownFluxes_\"+condition+\".csv\"\n",
    "    print(Organism,Condition,GeneExpFile,Medium,Network,KnownFluxes,sep=\"\\t\",file=f)\n",
    "    f.close()"
   ]
  },
  {
   "cell_type": "code",
   "execution_count": 19,
   "metadata": {},
   "outputs": [],
   "source": [
    "#import pheflux_one as pheflux\n",
    "import pheflux"
   ]
  },
  {
   "cell_type": "code",
   "execution_count": 20,
   "metadata": {
    "scrolled": true
   },
   "outputs": [
    {
     "name": "stdout",
     "output_type": "stream",
     "text": [
      "pH5.5\n",
      "InputData_pH5.5.csv\n",
      "Condition ejecuted: C_acetobutylicum - pH5.5 \n",
      "\n",
      "\n",
      "******************************************************************************\n",
      "This program contains Ipopt, a library for large-scale nonlinear optimization.\n",
      " Ipopt is released as open source code under the Eclipse Public License (EPL).\n",
      "         For more information visit http://projects.coin-or.org/Ipopt\n",
      "******************************************************************************\n",
      "\n",
      "Total number of variables............................:     2013\n",
      "                     variables with only lower bounds:        0\n",
      "                variables with lower and upper bounds:     2013\n",
      "                     variables with only upper bounds:        0\n",
      "Total number of equality constraints.................:     1259\n",
      "Total number of inequality constraints...............:        0\n",
      "        inequality constraints with only lower bounds:        0\n",
      "   inequality constraints with lower and upper bounds:        0\n",
      "        inequality constraints with only upper bounds:        0\n",
      "\n",
      "\n",
      "Number of Iterations....: 511\n",
      "\n",
      "                                   (scaled)                 (unscaled)\n",
      "Objective...............:  -3.4075468891052901e+02   -3.4075468891052901e+02\n",
      "Dual infeasibility......:   7.6682516390342302e-07    7.6682516390342302e-07\n",
      "Constraint violation....:   1.2555605666264569e-08    6.4500719432203368e-08\n",
      "Complementarity.........:   2.2050325174516269e-08    2.2050325174516269e-08\n",
      "Overall NLP error.......:   6.8287027808262674e-08    7.6682516390342302e-07\n",
      "\n",
      "\n",
      "Number of objective function evaluations             = 2017\n",
      "Number of objective gradient evaluations             = 485\n",
      "Number of equality constraint evaluations            = 2017\n",
      "Number of inequality constraint evaluations          = 0\n",
      "Number of equality constraint Jacobian evaluations   = 513\n",
      "Number of inequality constraint Jacobian evaluations = 0\n",
      "Number of Lagrangian Hessian evaluations             = 512\n",
      "Total CPU secs in IPOPT (w/o function evaluations)   =      2.014\n",
      "Total CPU secs in NLP function evaluations           =      0.264\n",
      "\n",
      "EXIT: Solved To Acceptable Level.\n",
      "           F  :   t_proc      (avg)   t_wall      (avg)    n_eval\n",
      "       nlp_f  |  63.73ms ( 31.60us)  63.36ms ( 31.41us)      2017\n",
      "       nlp_g  | 112.23ms ( 55.64us) 111.29ms ( 55.18us)      2017\n",
      "  nlp_grad_f  |  19.96ms ( 41.08us)  19.80ms ( 40.75us)       486\n",
      "  nlp_hess_l  |  10.02ms ( 19.69us)   9.95ms ( 19.54us)       509\n",
      "   nlp_jac_g  |  39.82ms ( 77.48us)  39.50ms ( 76.84us)       514\n",
      "       total  |   2.31 s (  2.31 s)   2.33 s (  2.33 s)         1\n",
      "\n",
      "\n",
      "* C_acetobutylicum - pH5.5 ... is processed.\n",
      "\n",
      " ==================================================== o ===================================================== \n",
      "\n",
      "Average time per optimization: 2.3342068195343018 s\n",
      "Average time per condition: 6.7383997440338135 s\n",
      "Total process time: 0.12616830269495646 min --> ~ 0.002102805044915941 h\n",
      "pH6.0\n",
      "InputData_pH6.0.csv\n",
      "Condition ejecuted: C_acetobutylicum - pH6.0 \n",
      "\n",
      "Total number of variables............................:     2013\n",
      "                     variables with only lower bounds:        0\n",
      "                variables with lower and upper bounds:     2013\n",
      "                     variables with only upper bounds:        0\n",
      "Total number of equality constraints.................:     1259\n",
      "Total number of inequality constraints...............:        0\n",
      "        inequality constraints with only lower bounds:        0\n",
      "   inequality constraints with lower and upper bounds:        0\n",
      "        inequality constraints with only upper bounds:        0\n",
      "\n",
      "\n",
      "Number of Iterations....: 112\n",
      "\n",
      "                                   (scaled)                 (unscaled)\n",
      "Objective...............:  -3.4078875028111389e+02   -3.4078875028111389e+02\n",
      "Dual infeasibility......:   4.5321102680548401e-06    4.5321102680548401e-06\n",
      "Constraint violation....:   5.2827384244835685e-08    2.1309600350960523e-07\n",
      "Complementarity.........:   4.5984958476451273e-08    4.5984958476451273e-08\n",
      "Overall NLP error.......:   1.7298882609430568e-07    4.5321102680548401e-06\n",
      "\n",
      "\n",
      "Number of objective function evaluations             = 248\n",
      "Number of objective gradient evaluations             = 114\n",
      "Number of equality constraint evaluations            = 248\n",
      "Number of inequality constraint evaluations          = 0\n",
      "Number of equality constraint Jacobian evaluations   = 114\n",
      "Number of inequality constraint Jacobian evaluations = 0\n",
      "Number of Lagrangian Hessian evaluations             = 113\n",
      "Total CPU secs in IPOPT (w/o function evaluations)   =      0.431\n",
      "Total CPU secs in NLP function evaluations           =      0.041\n",
      "\n",
      "EXIT: Solved To Acceptable Level.\n",
      "           F  :   t_proc      (avg)   t_wall      (avg)    n_eval\n",
      "       nlp_f  |   7.76ms ( 31.28us)   7.77ms ( 31.33us)       248\n",
      "       nlp_g  |  13.88ms ( 55.99us)  13.74ms ( 55.39us)       248\n",
      "  nlp_grad_f  |   4.73ms ( 41.10us)   4.69ms ( 40.78us)       115\n",
      "  nlp_hess_l  |   2.09ms ( 18.54us)   2.08ms ( 18.37us)       113\n",
      "   nlp_jac_g  |   8.76ms ( 76.17us)   8.72ms ( 75.83us)       115\n",
      "       total  | 472.70ms (472.70ms) 470.85ms (470.85ms)         1\n",
      "\n",
      "\n",
      "* C_acetobutylicum - pH6.0 ... is processed.\n",
      "\n",
      " ==================================================== o ===================================================== \n",
      "\n",
      "Average time per optimization: 0.471912145614624 s\n",
      "Average time per condition: 4.813239336013794 s\n",
      "Total process time: 0.09470229943593343 min --> ~ 0.0015783716572655572 h\n",
      "pH6.5\n",
      "InputData_pH6.5.csv\n",
      "Condition ejecuted: C_acetobutylicum - pH6.5 \n",
      "\n",
      "Total number of variables............................:     2013\n",
      "                     variables with only lower bounds:        0\n",
      "                variables with lower and upper bounds:     2013\n",
      "                     variables with only upper bounds:        0\n",
      "Total number of equality constraints.................:     1259\n",
      "Total number of inequality constraints...............:        0\n",
      "        inequality constraints with only lower bounds:        0\n",
      "   inequality constraints with lower and upper bounds:        0\n",
      "        inequality constraints with only upper bounds:        0\n",
      "\n",
      "\n",
      "Number of Iterations....: 5463\n",
      "\n",
      "                                   (scaled)                 (unscaled)\n",
      "Objective...............:  -3.4075537597330936e+02   -3.4075537597330936e+02\n",
      "Dual infeasibility......:   9.7603562579457239e-07    9.7603562579457239e-07\n",
      "Constraint violation....:   3.7823971676953505e-08    3.7823971676953505e-07\n",
      "Complementarity.........:   6.9982277652233246e-08    6.9982277652233246e-08\n",
      "Overall NLP error.......:   7.9850681093439830e-08    9.7603562579457239e-07\n",
      "\n",
      "\n",
      "Number of objective function evaluations             = 20462\n",
      "Number of objective gradient evaluations             = 5190\n",
      "Number of equality constraint evaluations            = 20462\n",
      "Number of inequality constraint evaluations          = 0\n",
      "Number of equality constraint Jacobian evaluations   = 5487\n",
      "Number of inequality constraint Jacobian evaluations = 0\n",
      "Number of Lagrangian Hessian evaluations             = 5464\n",
      "Total CPU secs in IPOPT (w/o function evaluations)   =     22.869\n",
      "Total CPU secs in NLP function evaluations           =      2.926\n",
      "\n",
      "EXIT: Solved To Acceptable Level.\n",
      "           F  :   t_proc      (avg)   t_wall      (avg)    n_eval\n",
      "       nlp_f  | 691.38ms ( 33.79us) 686.99ms ( 33.57us)     20462\n",
      "       nlp_g  |   1.20 s ( 58.81us)   1.19 s ( 58.39us)     20462\n",
      "  nlp_grad_f  | 236.50ms ( 45.56us) 234.86ms ( 45.24us)      5191\n",
      "  nlp_hess_l  | 120.22ms ( 22.17us) 119.10ms ( 21.97us)      5422\n",
      "   nlp_jac_g  | 474.02ms ( 86.37us) 471.00ms ( 85.82us)      5488\n",
      "       total  |  26.12 s ( 26.12 s)  25.94 s ( 25.94 s)         1\n",
      "\n",
      "\n",
      "* C_acetobutylicum - pH6.5 ... is processed.\n",
      "\n",
      " ==================================================== o ===================================================== \n",
      "\n",
      "Average time per optimization: 25.943286895751953 s\n",
      "Average time per condition: 30.494256258010864 s\n",
      "Total process time: 0.5233288645744324 min --> ~ 0.008722147742907206 h\n"
     ]
    }
   ],
   "source": [
    "for condition in conditions:\n",
    "    print(condition)\n",
    "    inputFile       = \"InputData_\"+condition+\".csv\"\n",
    "    resultsDir      = \"./results_paper\"\n",
    "    verbosity       = False # Verbose mode\n",
    "    prefix_log_file = condition\n",
    "    print(inputFile)\n",
    "    pheflux.getFluxes(inputFile,resultsDir)"
   ]
  },
  {
   "cell_type": "code",
   "execution_count": 21,
   "metadata": {},
   "outputs": [],
   "source": [
    "fluxes_pH55=pd.read_csv(\"./results/pH5.5_Solved_To_Acceptable_Level.csv\",sep=\"\\t\",\n",
    "                   names=[\"ReactionID\",\"Flux\"],header=0,index_col=0)\n",
    "fluxes_pH60=pd.read_csv(\"./results/pH6.0_Solved_To_Acceptable_Level.csv\",sep=\"\\t\",\n",
    "                   names=[\"ReactionID\",\"Flux\"],header=0,index_col=0)\n",
    "fluxes_pH65=pd.read_csv(\"./results/pH6.5_Solved_To_Acceptable_Level.csv\",sep=\"\\t\",\n",
    "                   names=[\"ReactionID\",\"Flux\"],header=0,index_col=0)\n"
   ]
  },
  {
   "cell_type": "code",
   "execution_count": 22,
   "metadata": {},
   "outputs": [
    {
     "data": {
      "image/png": "[encoded data removed]",
      "text/plain": [
       "<Figure size 432x288 with 1 Axes>"
      ]
     },
     "metadata": {
      "needs_background": "light"
     },
     "output_type": "display_data"
    },
    {
     "data": {
      "image/png": "[encoded data removed]",
      "text/plain": [
       "<Figure size 432x288 with 1 Axes>"
      ]
     },
     "metadata": {
      "needs_background": "light"
     },
     "output_type": "display_data"
    },
    {
     "data": {
      "image/png": "[encoded data removed]",
      "text/plain": [
       "<Figure size 432x288 with 1 Axes>"
      ]
     },
     "metadata": {
      "needs_background": "light"
     },
     "output_type": "display_data"
    }
   ],
   "source": [
    "# Explore flux distributions\n",
    "\n",
    "abs(fluxes_pH55).hist(log=True)\n",
    "plt.show()\n",
    "abs(fluxes_pH60).hist(log=True)\n",
    "plt.show()\n",
    "abs(fluxes_pH65).hist(log=True)\n",
    "plt.show()"
   ]
  },
  {
   "cell_type": "code",
   "execution_count": 23,
   "metadata": {},
   "outputs": [],
   "source": [
    "# Reactions consuming and producing ATP\n",
    "\n",
    "# Acetate producing ATP\n",
    "    # R0602 #ACK\n",
    "# Butyrate producing ATP\n",
    "    # R1148 #BUK\n",
    "# Glycolisis consuming ATP\n",
    "    # R0146 #Phosphofructokinase-1 -ATP\n",
    "    # R0943 #Hexokinase -ATP\n",
    "# Glycolisis producing ATP\n",
    "    # R0379 #Pyruvate kinase glycolysis +ATP\n",
    "    # R0239 #Phosphoglycerate kinase +ATP\n",
    "\n",
    "reactionIDs=[\"R0602\",\"R1148\",\"R0146\",\"R0943\",\"R0379\",\"R0239\"]"
   ]
  },
  {
   "cell_type": "code",
   "execution_count": 26,
   "metadata": {},
   "outputs": [
    {
     "name": "stdout",
     "output_type": "stream",
     "text": [
      "pH5.5 \n",
      "===========================\n",
      "Reaction\tExperimental\tPredicted\\Difference\n",
      "Biomass\t0.1\t0.1\t0.0\n",
      "Ex_91\t-6.5266\t-6.526214385974961\t-0.005908344697688506\n",
      "Ex_116\t17.71301596\t17.713017264461424\t7.364423016146384e-06\n",
      "Ex_96\t5.894083885\t4.64956783463887\t-21.114664715382304\n",
      "Ex_104\t5.3782\t5.1192001698738\t-4.815734448815589\n",
      "Ex_106\t0.2987\t0.29649560116174356\t-0.7379976023623904\n",
      "===========================\n",
      "\n",
      "pH6.0 \n",
      "===========================\n",
      "Reaction\tExperimental\tPredicted\\Difference\n",
      "Biomass\t0.1\t0.1\t0.0\n",
      "Ex_91\t-6.2648\t-6.263793566285229\t-0.016064897758444784\n",
      "Ex_116\t15.13498271\t15.134989295618126\t4.351255798213584e-05\n",
      "Ex_96\t5.30159\t4.494619152465355\t-15.22129865822602\n",
      "Ex_104\t3.1507\t3.0796994801559534\t-2.2534839827354762\n",
      "Ex_106\t0.669710807\t0.6605484684965265\t-1.3681037259226247\n",
      "===========================\n",
      "\n",
      "pH6.5 \n",
      "===========================\n",
      "Reaction\tExperimental\tPredicted\\Difference\n",
      "Biomass\t0.1\t0.10000000000000002\t1.3877787807814457e-14\n",
      "Ex_91\t-8.0258\t-8.025466954452094\t-0.004149686609512475\n",
      "Ex_116\t15.9725076\t15.972174396027372\t-0.00208610933845154\n",
      "Ex_96\t6.3\t5.607054588410949\t-10.99913351728652\n",
      "Ex_104\t2.217\t2.1957960394172833\t-0.9564258269155067\n",
      "Ex_106\t3.12144\t2.9939793348711823\t-4.083393085525204\n",
      "===========================\n",
      "\n"
     ]
    }
   ],
   "source": [
    "fluxesConds = [fluxes_pH55,fluxes_pH60,fluxes_pH65]\n",
    "atp=model.metabolites.cpd00002_c\n",
    "nadh=model.metabolites.cpd00004_c\n",
    "\n",
    "knownRxnIDs=[\"Biomass\",\"Ex_91\",\"Ex_116\",\"Ex_96\",\"Ex_104\",\"Ex_106\"]#,\"R0943\"]\n",
    "\n",
    "\n",
    "for i,condition in enumerate(conditions):\n",
    "    print(condition,\"\\n===========================\")\n",
    "    print(\"Reaction\\tExperimental\\tPredicted\\Difference\")\n",
    "    fluxes = fluxesConds[i]\n",
    "    scale = 0.1/fluxes.loc[\"R_Biomass\"].Flux\n",
    "    fluxesScaled = fluxes*scale\n",
    "            \n",
    "    for knownRxnID in knownRxnIDs:\n",
    "        predicted    = fluxesScaled.loc[\"R_\"+knownRxnID][\"Flux\"]\n",
    "        fluxExp=exp[condition][knownRxnID] \n",
    "        diff = (predicted-fluxExp)/fluxExp*100\n",
    "        print(knownRxnID,fluxExp,predicted,diff,sep=\"\\t\")\n",
    "    print(\"===========================\\n\")"
   ]
  },
  {
   "cell_type": "code",
   "execution_count": 27,
   "metadata": {},
   "outputs": [],
   "source": [
    "ATP_rxns=pd.read_csv(\"ATP_reactions.tsv\",sep=\"\\t\",names=[\"Class\"],header=0)"
   ]
  },
  {
   "cell_type": "code",
   "execution_count": 28,
   "metadata": {},
   "outputs": [],
   "source": [
    "NADH_rxns=pd.read_csv(\"NADH_reactions.tsv\",sep=\"\\t\",names=[\"Class\"],header=0)"
   ]
  },
  {
   "cell_type": "code",
   "execution_count": 29,
   "metadata": {},
   "outputs": [
    {
     "name": "stdout",
     "output_type": "stream",
     "text": [
      "pH5.5 \n",
      "===========================\n",
      "R0602\t5.1192285676398415\n",
      "R1148\t4.649575558088921\n",
      "R0146\t-4.0570426335893615\n",
      "R0943\t-6.148985676780796\n",
      "R0379\t10.61848305194516\n",
      "R0239\t-0.0\n",
      "ATP net flux\t10.181258867303766\n",
      "Total ATP prod\t32.125242378096154\n",
      "Yield\t4.922492654720982\n"
     ]
    },
    {
     "data": {
      "image/png": "[encoded data removed]",
      "text/plain": [
       "<Figure size 432x288 with 1 Axes>"
      ]
     },
     "metadata": {
      "needs_background": "light"
     },
     "output_type": "display_data"
    },
    {
     "data": {
      "image/png": "[encoded data removed]",
      "text/plain": [
       "<Figure size 432x288 with 1 Axes>"
      ]
     },
     "metadata": {
      "needs_background": "light"
     },
     "output_type": "display_data"
    },
    {
     "name": "stdout",
     "output_type": "stream",
     "text": [
      "===========================\n",
      "\n",
      "pH6.0 \n",
      "===========================\n",
      "R0602\t3.079874898347308\n",
      "R1148\t4.494639396654471\n",
      "R0146\t-5.207473102261896\n",
      "R0943\t-5.207534746446364\n",
      "R0379\t10.555358137127227\n",
      "R0239\t-0.0\n",
      "ATP net flux\t7.714864583420746\n",
      "Total ATP prod\t23.265487797472947\n",
      "Yield\t3.7142807391832116\n"
     ]
    },
    {
     "data": {
      "image/png": "[encoded data removed]",
      "text/plain": [
       "<Figure size 432x288 with 1 Axes>"
      ]
     },
     "metadata": {
      "needs_background": "light"
     },
     "output_type": "display_data"
    },
    {
     "data": {
      "image/png": "[encoded data removed]",
      "text/plain": [
       "<Figure size 432x288 with 1 Axes>"
      ]
     },
     "metadata": {
      "needs_background": "light"
     },
     "output_type": "display_data"
    },
    {
     "name": "stdout",
     "output_type": "stream",
     "text": [
      "===========================\n",
      "\n",
      "pH6.5 \n",
      "===========================\n",
      "R0602\t2.1960843383308735\n",
      "R1148\t5.607078288967121\n",
      "R0146\t-7.206798181514899\n",
      "R0943\t-7.2857145284563956\n",
      "R0379\t14.834090096826026\n",
      "R0239\t-0.0\n",
      "ATP net flux\t8.144740014152726\n",
      "Total ATP prod\t27.049071667509104\n",
      "Yield\t3.3704047155167394\n"
     ]
    },
    {
     "data": {
      "image/png": "[encoded data removed]",
      "text/plain": [
       "<Figure size 432x288 with 1 Axes>"
      ]
     },
     "metadata": {
      "needs_background": "light"
     },
     "output_type": "display_data"
    },
    {
     "data": {
      "image/png": "[encoded data removed]",
      "text/plain": [
       "<Figure size 432x288 with 1 Axes>"
      ]
     },
     "metadata": {
      "needs_background": "light"
     },
     "output_type": "display_data"
    },
    {
     "name": "stdout",
     "output_type": "stream",
     "text": [
      "===========================\n",
      "\n"
     ]
    }
   ],
   "source": [
    "Production_ATP =defaultdict(float)\n",
    "Consumo_ATP =defaultdict(float)\n",
    "\n",
    "width=0.25\n",
    "\n",
    "for i,condition in enumerate(conditions):\n",
    "    print(condition,\"\\n===========================\")\n",
    "    fluxes = fluxesConds[i]\n",
    "    scale = 0.1/fluxes.loc[\"R_Biomass\"].Flux\n",
    "    fluxesScaled = fluxes*scale    \n",
    "    ABLFlux = 0\n",
    "    for reactionID in reactionIDs:\n",
    "        reaction = model.reactions.get_by_id(reactionID)\n",
    "        coef     = reaction.metabolites[atp]\n",
    "        flux     = fluxesScaled.loc[\"R_\"+reactionID][\"Flux\"]*coef\n",
    "        ABLFlux += flux\n",
    "        print(reactionID,flux,sep=\"\\t\")\n",
    "    totalFlux=0\n",
    "    for reaction in model.metabolites.cpd00002_c.reactions:\n",
    "        coef     = reaction.metabolites[atp]\n",
    "        flux     = fluxesScaled.loc[\"R_\"+reaction.id][\"Flux\"]*coef\n",
    "        if flux>0:\n",
    "            totalFlux += flux\n",
    "    #NADH flux\n",
    "    totalNADHFlux=0\n",
    "    for reaction in model.metabolites.cpd00004_c.reactions:\n",
    "        coef     = reaction.metabolites[nadh]\n",
    "        flux     = fluxesScaled.loc[\"R_\"+reaction.id][\"Flux\"]*coef\n",
    "        if flux>0:\n",
    "            totalNADHFlux += flux\n",
    "            \n",
    "    print(\"ATP net flux\",ABLFlux,sep=\"\\t\")\n",
    "    print(\"Total ATP prod\",totalFlux,sep=\"\\t\")\n",
    "    y = totalFlux/abs(fluxesScaled.loc[\"R_Ex_91\"][\"Flux\"])\n",
    "    print(\"Yield\",y,sep=\"\\t\")\n",
    "    \n",
    "    for reactionID in ATP_rxns.index:\n",
    "        Class    =ATP_rxns.loc[reactionID].Class\n",
    "        reaction = model.reactions.get_by_id(reactionID)\n",
    "        coef     = reaction.metabolites[atp]\n",
    "        flux     = fluxesScaled.loc[\"R_\"+reactionID][\"Flux\"]*coef\n",
    "        if flux>=0:\n",
    "            Production_ATP[Class] += flux\n",
    "        else:\n",
    "            Consumo_ATP[Class] += flux\n",
    "\n",
    "\n",
    "    plt.bar(list(Production_ATP.keys()),np.abs(list(Production_ATP.values())),width,log=True )\n",
    "    y_pos = range(len(Production_ATP))\n",
    "    plt.xticks(y_pos, list(Production_ATP.keys()), rotation=90)\n",
    "    plt.title(\"Production of ATP, \"+condition)\n",
    "    plt.show()\n",
    "    \n",
    "\n",
    "    plt.title(\"Consumption of ATP, \"+condition)\n",
    "    plt.bar(list(Consumo_ATP.keys()),np.abs(list(Consumo_ATP.values())),width,log=True )\n",
    "    y_pos = range(len(Consumo_ATP))\n",
    "    plt.xticks(y_pos, list(Consumo_ATP.keys()), rotation=90)\n",
    "    plt.show()\n",
    "    print(\"===========================\\n\")\n"
   ]
  },
  {
   "cell_type": "code",
   "execution_count": 30,
   "metadata": {},
   "outputs": [
    {
     "name": "stdout",
     "output_type": "stream",
     "text": [
      "pH5.5 \n",
      "===========================\n",
      "R0602\t5.1192285676398415\n",
      "R1148\t4.649575558088921\n",
      "R0146\t-4.0570426335893615\n",
      "R0943\t-6.148985676780796\n",
      "R0379\t10.61848305194516\n",
      "R0239\t-0.0\n",
      "ATP net flux\t10.181258867303766\n",
      "Total ATP prod\t32.125242378096154\n",
      "Total NADH prod\t25.298092410908705\n",
      "Yield\t4.922492654720982\n",
      "pH6.0 \n",
      "===========================\n",
      "R0602\t3.079874898347308\n",
      "R1148\t4.494639396654471\n",
      "R0146\t-5.207473102261896\n",
      "R0943\t-5.207534746446364\n",
      "R0379\t10.555358137127227\n",
      "R0239\t-0.0\n",
      "ATP net flux\t7.714864583420746\n",
      "Total ATP prod\t23.265487797472947\n",
      "Total NADH prod\t22.511281160188176\n",
      "Yield\t3.7142807391832116\n",
      "pH6.5 \n",
      "===========================\n",
      "R0602\t2.1960843383308735\n",
      "R1148\t5.607078288967121\n",
      "R0146\t-7.206798181514899\n",
      "R0943\t-7.2857145284563956\n",
      "R0379\t14.834090096826026\n",
      "R0239\t-0.0\n",
      "ATP net flux\t8.144740014152726\n",
      "Total ATP prod\t27.049071667509104\n",
      "Total NADH prod\t27.79243586294557\n",
      "Yield\t3.3704047155167394\n"
     ]
    }
   ],
   "source": [
    "Production_ATP={}\n",
    "Consumo_ATP={}\n",
    "Production_NADH={}\n",
    "Consumo_NADH={}\n",
    "y={} #yield\n",
    "y_nadh={} #yield NADH\n",
    "totalFlux={} #netFlux ATP\n",
    "totalFlux_nadh={} # netflux NADH\n",
    "synthase={}  \n",
    "spf={}\n",
    "\n",
    "width=0.25\n",
    "\n",
    "for i,condition in enumerate(conditions):\n",
    "    print(condition,\"\\n===========================\")\n",
    "    \n",
    "    fluxes = fluxesConds[i]\n",
    "    scale = 0.1/fluxes.loc[\"R_Biomass\"].Flux\n",
    "    fluxesScaled = fluxes*scale    \n",
    "    ABLFlux = 0\n",
    "    for reactionID in reactionIDs:\n",
    "        reaction = model.reactions.get_by_id(reactionID)\n",
    "        coef     = reaction.metabolites[atp]\n",
    "        flux     = fluxesScaled.loc[\"R_\"+reactionID][\"Flux\"]*coef\n",
    "        ABLFlux += flux\n",
    "        print(reactionID,flux,sep=\"\\t\")\n",
    "    print(\"ATP net flux\",ABLFlux,sep=\"\\t\")\n",
    "    \n",
    "    totalFlux[condition]=0\n",
    "    for reaction in model.metabolites.cpd00002_c.reactions:\n",
    "        coef     = reaction.metabolites[atp]\n",
    "        flux     = fluxesScaled.loc[\"R_\"+reaction.id][\"Flux\"]*coef\n",
    "        if flux>0:\n",
    "            totalFlux[condition] += flux\n",
    "    print(\"Total ATP prod\",totalFlux[condition],sep=\"\\t\")\n",
    "    \n",
    "    totalFlux_nadh[condition]=0\n",
    "    for reaction in model.metabolites.cpd00004_c.reactions:\n",
    "        coef     = reaction.metabolites[nadh]\n",
    "        flux     = fluxesScaled.loc[\"R_\"+reaction.id][\"Flux\"]*coef\n",
    "        if flux>0:\n",
    "            totalFlux_nadh[condition] += flux\n",
    "    print(\"Total NADH prod\",totalFlux_nadh[condition],sep=\"\\t\")    \n",
    "    \n",
    "    y[condition] = totalFlux[condition]/abs(fluxesScaled.loc[\"R_Ex_91\"][\"Flux\"])\n",
    "    y_nadh[condition] = totalFlux_nadh[condition]/abs(fluxesScaled.loc[\"R_Ex_91\"][\"Flux\"])\n",
    "\n",
    "    print(\"Yield\",y[condition],sep=\"\\t\")\n",
    "    \n",
    "    synthase[condition]=fluxesScaled.loc[\"R_R1045\"].Flux\n",
    "    spf[condition]     =fluxesScaled.loc[\"R_Ex_1\"].Flux\n",
    "    \n",
    "    Production_ATP[condition] =defaultdict(float)\n",
    "    Consumo_ATP[condition] =defaultdict(float)\n",
    "    for reactionID in ATP_rxns.index:\n",
    "        Class    = ATP_rxns.loc[reactionID].Class\n",
    "        reaction = model.reactions.get_by_id(reactionID)\n",
    "        coef     = reaction.metabolites[atp]\n",
    "        flux     = fluxesScaled.loc[\"R_\"+reactionID][\"Flux\"]*coef\n",
    "        if flux>=0:\n",
    "            Production_ATP[condition][Class] += flux\n",
    "            Consumo_ATP[condition][Class] += 0\n",
    "        else:\n",
    "            Production_ATP[condition][Class] += 0\n",
    "            Consumo_ATP[condition][Class] += flux\n",
    "            \n",
    "    Production_NADH[condition] =defaultdict(float)\n",
    "    Consumo_NADH[condition] =defaultdict(float)\n",
    "    for reactionID in NADH_rxns.index:\n",
    "        Class    = NADH_rxns.loc[reactionID].Class\n",
    "        reaction = model.reactions.get_by_id(reactionID)\n",
    "        coef     = reaction.metabolites[nadh]\n",
    "        flux     = fluxesScaled.loc[\"R_\"+reactionID][\"Flux\"]*coef\n",
    "        if flux>=0:\n",
    "            Production_NADH[condition][Class] += flux\n",
    "            Consumo_NADH[condition][Class] += 0\n",
    "        else:\n",
    "            Production_NADH[condition][Class] += 0\n",
    "            Consumo_NADH[condition][Class] += flux"
   ]
  },
  {
   "cell_type": "code",
   "execution_count": 31,
   "metadata": {},
   "outputs": [
    {
     "data": {
      "image/png": "[encoded data removed]",
      "text/plain": [
       "<Figure size 432x288 with 1 Axes>"
      ]
     },
     "metadata": {
      "needs_background": "light"
     },
     "output_type": "display_data"
    },
    {
     "data": {
      "image/png": "[encoded data removed]",
      "text/plain": [
       "<Figure size 432x288 with 1 Axes>"
      ]
     },
     "metadata": {
      "needs_background": "light"
     },
     "output_type": "display_data"
    },
    {
     "data": {
      "image/png": "[encoded data removed]",
      "text/plain": [
       "<Figure size 432x288 with 1 Axes>"
      ]
     },
     "metadata": {
      "needs_background": "light"
     },
     "output_type": "display_data"
    }
   ],
   "source": [
    "plt.bar(y.keys(),np.abs(list(y.values())),log=False )\n",
    "plt.title(\"ATP yield\")\n",
    "plt.ylabel(\"$v_{ATP}/v_{glc}$\")\n",
    "plt.show()\n",
    "\n",
    "f=totalFlux\n",
    "plt.bar(f.keys(),np.abs(list(f.values())),log=False )\n",
    "plt.title(\"Total ATP production flux\")\n",
    "plt.ylabel(\"Flux [mmol/g/h]\")\n",
    "plt.show()\n",
    "\n",
    "plt.bar(synthase.keys(),list(synthase.values()),log=False )\n",
    "plt.title(\"ATP Synthase production flux\")\n",
    "plt.ylabel(\"Flux [mmol/g/h]\")\n",
    "plt.show()\n",
    " "
   ]
  },
  {
   "cell_type": "code",
   "execution_count": 43,
   "metadata": {},
   "outputs": [
    {
     "data": {
      "image/png": "[encoded data removed]",
      "text/plain": [
       "<Figure size 432x288 with 2 Axes>"
      ]
     },
     "metadata": {
      "needs_background": "light"
     },
     "output_type": "display_data"
    }
   ],
   "source": [
    "fig, ax1 = plt.subplots() \n",
    "\n",
    "ax1.plot(y.keys(),np.abs(list(y.values())),\"d:\",color=\"blue\",alpha=0.7,markersize=10 )\n",
    "#ax1.set_title(\"ATP yield\")\n",
    "ax1.set_ylabel(\"ATP yield $v_{ATP}/v_{glc}$\",color=\"blue\")\n",
    "ax1.set_xlabel(\"Condition\")\n",
    "\n",
    "ax2 = ax1.twinx() \n",
    "\n",
    "f=totalFlux\n",
    "ax2.plot(f.keys(),np.abs(list(f.values())),\"s:\",color=\"green\",alpha=0.7,markersize=10 )\n",
    "ax2.set_ylabel(\"Total ATP production flux [mmol/g/h]\",color=\"green\")\n",
    "\n",
    "plt.savefig(\"fig6a.svg\")\n",
    "plt.savefig(\"fig6a.png\", dpi=300)\n",
    "plt.show()"
   ]
  },
  {
   "cell_type": "code",
   "execution_count": 42,
   "metadata": {},
   "outputs": [
    {
     "data": {
      "image/png": "[encoded data removed]",
      "text/plain": [
       "<Figure size 432x288 with 2 Axes>"
      ]
     },
     "metadata": {
      "needs_background": "light"
     },
     "output_type": "display_data"
    }
   ],
   "source": [
    "fig, ax1 = plt.subplots() \n",
    "\n",
    "ax1.plot(y_nadh.keys(),np.abs(list(y_nadh.values())),\"d:\",color=\"blue\",alpha=0.7,markersize=10 )\n",
    "#ax1.set_title(\"ATP yield\")\n",
    "ax1.set_ylabel(\"NADH yield $v_{NADH}/v_{glc}$\",color=\"blue\")\n",
    "ax1.set_xlabel(\"Condition\")\n",
    "\n",
    "ax2 = ax1.twinx() \n",
    "\n",
    "f=totalFlux_nadh\n",
    "ax2.plot(f.keys(),np.abs(list(f.values())),\"s:\",color=\"green\",alpha=0.7,markersize=10 )\n",
    "ax2.set_ylabel(\"Total NADH production flux [mmol/g/h]\",color=\"green\")\n",
    "\n",
    "plt.savefig(\"fig6b.svg\")\n",
    "plt.savefig(\"fig6b.png\", dpi=300)\n",
    "plt.show()"
   ]
  },
  {
   "cell_type": "code",
   "execution_count": 44,
   "metadata": {},
   "outputs": [
    {
     "data": {
      "image/png": "[encoded data removed]",
      "text/plain": [
       "<Figure size 432x288 with 1 Axes>"
      ]
     },
     "metadata": {
      "needs_background": "light"
     },
     "output_type": "display_data"
    },
    {
     "data": {
      "image/png": "[encoded data removed]",
      "text/plain": [
       "<Figure size 432x288 with 1 Axes>"
      ]
     },
     "metadata": {
      "needs_background": "light"
     },
     "output_type": "display_data"
    }
   ],
   "source": [
    "plt.plot(synthase.keys(),list(synthase.values()),\"o:\",color=\"red\",alpha=0.7,markersize=10 )\n",
    "plt.title(\"ATP Synthase production flux\")\n",
    "plt.ylabel(\"Flux [mmol/g/h]\")\n",
    "plt.xlabel(\"Condition\")\n",
    "plt.savefig(\"fig4b.svg\")\n",
    "plt.savefig(\"fig4b.png\",dpi=300)\n",
    "plt.show()\n",
    "\n",
    "plt.plot(spf.keys(),list(spf.values()),\"o:\",color=\"red\",alpha=0.7,markersize=10 )\n",
    "plt.title(\"H${}_2$ flux (SPF)\")\n",
    "plt.ylabel(\"Flux [mmol/g/h]\")\n",
    "plt.xlabel(\"Condition\")\n",
    "plt.savefig(\"spf.svg\")\n",
    "plt.show()"
   ]
  },
  {
   "cell_type": "code",
   "execution_count": 45,
   "metadata": {
    "scrolled": true
   },
   "outputs": [
    {
     "data": {
      "image/png": "[encoded data removed]",
      "text/plain": [
       "<Figure size 432x288 with 1 Axes>"
      ]
     },
     "metadata": {
      "needs_background": "light"
     },
     "output_type": "display_data"
    }
   ],
   "source": [
    "keys=[\"F\",\"C\",\"R\",\"E\",\"GK\",\"G\",\"Biomass\",\"EF\",\"H\"][::-1] #,\"M\",\"K\",\"I\"\n",
    "\n",
    "for i,condition in enumerate(conditions):\n",
    "    P_ATP =[Production_ATP[condition][key] for key in keys]\n",
    "    C_ATP =[Consumo_ATP[condition][key] for key in keys]\n",
    "    \n",
    "    ind = np.arange(len(P_ATP))\n",
    "    plt.barh(list(ind+width*i)+list(ind+width*i),P_ATP+C_ATP,width,log=False )\n",
    "\n",
    "plt.legend(  conditions,loc='center right' )\n",
    "plt.axvline(x=0,color=\"black\",linestyle=\"dotted\")\n",
    "plt.yticks(ind+width, keys)\n",
    "plt.title(\"Consumption ($v<0$) and Production ($v>0$) of ATP\")\n",
    "plt.xlabel(\"$v$ [mmol/g/h]\")\n",
    "plt.ylabel(\"Functional group\")  \n",
    "plt.savefig(\"fig5a.svg\")  \n",
    "plt.savefig(\"fig5a.png\",dpi=300)  \n",
    "plt.show()"
   ]
  },
  {
   "cell_type": "code",
   "execution_count": 46,
   "metadata": {},
   "outputs": [
    {
     "data": {
      "image/png": "[encoded data removed]",
      "text/plain": [
       "<Figure size 432x288 with 1 Axes>"
      ]
     },
     "metadata": {
      "needs_background": "light"
     },
     "output_type": "display_data"
    }
   ],
   "source": [
    "keys=[\"F\",\"C\",\"R\",\"E\",\"GK\",\"G\",\"Biomass\",\"EF\",\"H\",\"M\",\"K\",\"I\"][::-1] #,\"M\",\"K\",\"I\"\n",
    "\n",
    "for i,condition in enumerate(conditions):\n",
    "    P_NADH =[Production_NADH[condition][key] for key in keys]\n",
    "    C_NADH =[Consumo_NADH[condition][key] for key in keys]\n",
    "    \n",
    "    ind = np.arange(len(P_NADH))\n",
    "    plt.barh(list(ind+width*i)+list(ind+width*i),P_NADH+C_NADH,width,log=False )\n",
    "\n",
    "plt.legend(  conditions,loc='lower right' )\n",
    "plt.axvline(x=0,color=\"black\",linestyle=\"dotted\")\n",
    "plt.yticks(ind+width, keys)\n",
    "plt.title(\"Consumption ($v<0$) and Production ($v>0$) of NADH\")\n",
    "plt.xlabel(\"$v$ [mmol/g/h]\")\n",
    "plt.ylabel(\"Functional group\")  \n",
    "plt.savefig(\"fig5b.svg\")  \n",
    "plt.savefig(\"fig5b.png\",dpi=300)  \n",
    "plt.show()"
   ]
  },
  {
   "cell_type": "code",
   "execution_count": null,
   "metadata": {},
   "outputs": [],
   "source": []
  }
 ],
 "metadata": {
  "kernelspec": {
   "display_name": "Python 3",
   "language": "python",
   "name": "python3"
  },
  "language_info": {
   "codemirror_mode": {
    "name": "ipython",
    "version": 3
   },
   "file_extension": ".py",
   "mimetype": "text/x-python",
   "name": "python",
   "nbconvert_exporter": "python",
   "pygments_lexer": "ipython3",
   "version": "3.8.10"
  }
 },
 "nbformat": 4,
 "nbformat_minor": 4
}
